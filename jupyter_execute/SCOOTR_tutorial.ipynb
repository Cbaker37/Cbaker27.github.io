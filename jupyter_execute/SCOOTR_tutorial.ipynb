{
 "cells": [
  {
   "attachments": {},
   "cell_type": "markdown",
   "metadata": {},
   "source": [
    "# SCOOTR Tutorial"
   ]
  },
  {
   "attachments": {},
   "cell_type": "markdown",
   "metadata": {},
   "source": [
    "TO DO:\n",
    "\n",
    "Make sure to increase nits for emd"
   ]
  },
  {
   "attachments": {},
   "cell_type": "markdown",
   "metadata": {},
   "source": [
    "In this tutorial, we will examine our newest tool, SCOOTR. SCOOTR blends together UGW and UCOOT to incentivise sample alignments that are  informed by both feature data and local geometry."
   ]
  },
  {
   "attachments": {},
   "cell_type": "markdown",
   "metadata": {},
   "source": [
    "```{tip}\n",
    "If you want to know more about how and why SCOOTR works, see our document on the evolution of optimal transport algorithms for sample alignment. In addition, if you have not yet seen our UGW and UCOOT tutorials, we recommend viewing those first to get a sense of what SCOOTR is doing under the hood.\n",
    "```"
   ]
  },
  {
   "attachments": {},
   "cell_type": "markdown",
   "metadata": {},
   "source": [
    "To begin, we will load in our preprocessed data. If you would like to preprocess the data in your own way, you can download the raw files for this dataset by running \"sh download_scripts/CITEseq_download.sh\" from the root of your SCOOTR directory. They will be loaded into the same folder as the preprocessed datasets."
   ]
  },
  {
   "cell_type": "code",
   "execution_count": 1,
   "metadata": {},
   "outputs": [
    {
     "ename": "ModuleNotFoundError",
     "evalue": "No module named 'src.megawass'",
     "output_type": "error",
     "traceback": [
      "\u001b[0;31m---------------------------------------------------------------------------\u001b[0m",
      "\u001b[0;31mModuleNotFoundError\u001b[0m                       Traceback (most recent call last)",
      "Cell \u001b[0;32mIn[1], line 1\u001b[0m\n\u001b[0;32m----> 1\u001b[0m \u001b[38;5;28;01mimport\u001b[39;00m \u001b[38;5;21;01msrc\u001b[39;00m\u001b[38;5;21;01m.\u001b[39;00m\u001b[38;5;21;01mmegawass\u001b[39;00m \u001b[38;5;28;01mas\u001b[39;00m \u001b[38;5;21;01mmw\u001b[39;00m\n\u001b[1;32m      2\u001b[0m \u001b[38;5;28;01mimport\u001b[39;00m \u001b[38;5;21;01mscanpy\u001b[39;00m \u001b[38;5;28;01mas\u001b[39;00m \u001b[38;5;21;01msc\u001b[39;00m\n\u001b[1;32m      3\u001b[0m \u001b[38;5;28;01mimport\u001b[39;00m \u001b[38;5;21;01mnumpy\u001b[39;00m \u001b[38;5;28;01mas\u001b[39;00m \u001b[38;5;21;01mnp\u001b[39;00m\n",
      "\u001b[0;31mModuleNotFoundError\u001b[0m: No module named 'src.megawass'"
     ]
    }
   ],
   "source": [
    "%%capture\n",
    "import src.megawass as mw\n",
    "import scanpy as sc\n",
    "import numpy as np\n",
    "import pandas as pd\n",
    "import matplotlib.pyplot as plt\n",
    "import umap\n",
    "from sklearn.preprocessing import normalize\n",
    "\n",
    "X_raw = sc.read_csv(\"./data/CITEseq/citeseq_adt_normalized_1000cells.csv\")\n",
    "y_raw = sc.read_csv(\"./data/CITEseq/citeseq_rna_normalizedFC_1000cells.csv\")\n",
    "x_feat_labels=[\"CD11a\",\"CD11c\",\"CD123\",\"CD127-IL7Ra\",\"CD14\",\"CD16\",\"CD161\",\"CD19\",\"CD197-CCR7\",\"CD25\",\"CD27\",\"CD278-ICOS\",\"CD28\",\"CD3\",\"CD34\",\"CD38\",\"CD4\",\"CD45RA\",\"CD45RO\",\"CD56\",\"CD57\",\"CD69\",\"CD79b\",\"CD8a\",\"HLA.DR\"]\n",
    "y_feat_labels=[\"ITGAL\",\"ITGAX\",\"IL3RA\",\"IL7R\",\"CD14\",\"FCGR3A\",\"KLRB1\",\"CD19\",\"CCR7\",\"IL2RA\",\"CD27\",\"ICOS\",\"CD28\",\"CD3E\",\"CD34\",\"CD38\",\"CD4\",\"PTPRC\",\"PTPRC\",\"NCAM1\",\"B3GAT1\",\"CD69\",\"CD79B\",\"CD8A\",\"HLA-DRA\"] \n",
    "samp_labels = ['Cell {0}'.format(x) for x in range(X_raw.shape[1])]"
   ]
  },
  {
   "attachments": {},
   "cell_type": "markdown",
   "metadata": {},
   "source": [
    "From here, we can load our data into usable DataFrames."
   ]
  },
  {
   "cell_type": "code",
   "execution_count": 2,
   "metadata": {},
   "outputs": [
    {
     "ename": "NameError",
     "evalue": "name 'pd' is not defined",
     "output_type": "error",
     "traceback": [
      "\u001b[0;31m---------------------------------------------------------------------------\u001b[0m",
      "\u001b[0;31mNameError\u001b[0m                                 Traceback (most recent call last)",
      "Cell \u001b[0;32mIn[2], line 1\u001b[0m\n\u001b[0;32m----> 1\u001b[0m X_full_annotated \u001b[38;5;241m=\u001b[39m \u001b[43mpd\u001b[49m\u001b[38;5;241m.\u001b[39mDataFrame(normalize(normalize(X_raw\u001b[38;5;241m.\u001b[39mX, norm\u001b[38;5;241m=\u001b[39m\u001b[38;5;124m'\u001b[39m\u001b[38;5;124ml2\u001b[39m\u001b[38;5;124m'\u001b[39m, axis\u001b[38;5;241m=\u001b[39m\u001b[38;5;241m1\u001b[39m)\u001b[38;5;241m.\u001b[39mtranspose(), norm\u001b[38;5;241m=\u001b[39m\u001b[38;5;124m'\u001b[39m\u001b[38;5;124ml2\u001b[39m\u001b[38;5;124m'\u001b[39m, axis\u001b[38;5;241m=\u001b[39m\u001b[38;5;241m1\u001b[39m))\n\u001b[1;32m      2\u001b[0m X_full_annotated\u001b[38;5;241m.\u001b[39mindex, X_full_annotated\u001b[38;5;241m.\u001b[39mcolumns \u001b[38;5;241m=\u001b[39m samp_labels, x_feat_labels\n\u001b[1;32m      3\u001b[0m y_full_annotated \u001b[38;5;241m=\u001b[39m pd\u001b[38;5;241m.\u001b[39mDataFrame(normalize(y_raw\u001b[38;5;241m.\u001b[39mtranspose()\u001b[38;5;241m.\u001b[39mX, norm\u001b[38;5;241m=\u001b[39m\u001b[38;5;124m'\u001b[39m\u001b[38;5;124ml2\u001b[39m\u001b[38;5;124m'\u001b[39m, axis\u001b[38;5;241m=\u001b[39m\u001b[38;5;241m1\u001b[39m))\n",
      "\u001b[0;31mNameError\u001b[0m: name 'pd' is not defined"
     ]
    }
   ],
   "source": [
    "X_full_annotated = pd.DataFrame(normalize(normalize(X_raw.X, norm='l2', axis=1).transpose(), norm='l2', axis=1))\n",
    "X_full_annotated.index, X_full_annotated.columns = samp_labels, x_feat_labels\n",
    "y_full_annotated = pd.DataFrame(normalize(y_raw.transpose().X, norm='l2', axis=1))\n",
    "y_full_annotated.index, y_full_annotated.columns = samp_labels, y_feat_labels\n",
    "\n",
    "X_full = X_full_annotated.to_numpy()\n",
    "y_full = y_full_annotated.to_numpy()\n",
    "\n",
    "X_annotated = X_full_annotated.iloc[:,0:10]\n",
    "y_annotated = y_full_annotated.iloc[:,0:10]\n",
    "\n",
    "X = X_annotated.to_numpy()\n",
    "y = y_annotated.to_numpy()"
   ]
  },
  {
   "attachments": {},
   "cell_type": "markdown",
   "metadata": {},
   "source": [
    "From here, we can instantiate a MegaWass object to begin aligning our data."
   ]
  },
  {
   "attachments": {},
   "cell_type": "markdown",
   "metadata": {},
   "source": [
    "```{tip}\n",
    "See our setup tutorial to get a better understanding of the initial parameters for the MegaWass tool.\n",
    "```"
   ]
  },
  {
   "cell_type": "code",
   "execution_count": 3,
   "metadata": {},
   "outputs": [],
   "source": [
    "megawass = mw.MegaWass(nits_bcd=10)"
   ]
  },
  {
   "attachments": {},
   "cell_type": "markdown",
   "metadata": {},
   "source": [
    "From here, we can begin by establishing pairwise distance matrices for our domains, as per the UGW tutorial:"
   ]
  },
  {
   "cell_type": "code",
   "execution_count": 4,
   "metadata": {},
   "outputs": [],
   "source": [
    "X_full=np.load(\"./data/CITEseq/cite_adt_1000cells.npy\")\n",
    "y_full=np.load(\"./data/CITEseq/cite_rna_1000cells.npy\")\n",
    "\n",
    "X_full=normalize(np.transpose(X_full))\n",
    "y_full=normalize(np.transpose(y_full))"
   ]
  },
  {
   "cell_type": "code",
   "execution_count": 5,
   "metadata": {},
   "outputs": [],
   "source": [
    "# knn connectivity distance\n",
    "Dx_knn = megawass.compute_graph_distances(X_full, n_neighbors=10,mode='connectivity')\n",
    "Dy_knn = megawass.compute_graph_distances(y_full, n_neighbors=10, mode='connectivity')"
   ]
  },
  {
   "cell_type": "code",
   "execution_count": 6,
   "metadata": {},
   "outputs": [
    {
     "data": {
      "text/plain": [
       "array([[ 0., 17.,  2., ..., 17., 17.,  4.],\n",
       "       [17.,  0., 15., ...,  4.,  2., 16.],\n",
       "       [ 2., 15.,  0., ..., 15., 15.,  3.],\n",
       "       ...,\n",
       "       [17.,  4., 15., ...,  0.,  4., 16.],\n",
       "       [17.,  2., 15., ...,  4.,  0., 16.],\n",
       "       [ 4., 16.,  3., ..., 16., 16.,  0.]])"
      ]
     },
     "execution_count": 6,
     "metadata": {},
     "output_type": "execute_result"
    }
   ],
   "source": [
    "Dx_knn"
   ]
  },
  {
   "cell_type": "code",
   "execution_count": 7,
   "metadata": {},
   "outputs": [],
   "source": [
    "Dx_knn = megawass.knn_dist(X_full, k=10)"
   ]
  },
  {
   "cell_type": "code",
   "execution_count": 8,
   "metadata": {},
   "outputs": [
    {
     "data": {
      "text/plain": [
       "array([[0.        , 0.89473684, 0.10526316, ..., 0.89473684, 0.89473684,\n",
       "        0.21052632],\n",
       "       [0.89473684, 0.        , 0.78947368, ..., 0.21052632, 0.10526316,\n",
       "        0.84210526],\n",
       "       [0.10526316, 0.78947368, 0.        , ..., 0.78947368, 0.78947368,\n",
       "        0.15789474],\n",
       "       ...,\n",
       "       [0.89473684, 0.21052632, 0.78947368, ..., 0.        , 0.21052632,\n",
       "        0.84210526],\n",
       "       [0.89473684, 0.10526316, 0.78947368, ..., 0.21052632, 0.        ,\n",
       "        0.84210526],\n",
       "       [0.21052632, 0.84210526, 0.15789474, ..., 0.84210526, 0.84210526,\n",
       "        0.        ]])"
      ]
     },
     "execution_count": 8,
     "metadata": {},
     "output_type": "execute_result"
    }
   ],
   "source": [
    "Dx_knn"
   ]
  },
  {
   "attachments": {},
   "cell_type": "markdown",
   "metadata": {},
   "source": [
    "Now we can try a standard SCOOTR alignment."
   ]
  },
  {
   "cell_type": "code",
   "execution_count": 6,
   "metadata": {},
   "outputs": [
    {
     "name": "stderr",
     "output_type": "stream",
     "text": [
      "/Users/colinbaker/anaconda3/envs/scootr/lib/python3.9/site-packages/ot/lp/__init__.py:346: UserWarning: numItermax reached before optimality. Try to increase numItermax.\n",
      "  result_code_string = check_result(result_code)\n",
      "/Users/colinbaker/anaconda3/envs/scootr/lib/python3.9/site-packages/scipy/optimize/_linesearch.py:709: RuntimeWarning: divide by zero encountered in scalar divide\n",
      "  alpha2 = (-b + np.sqrt(abs(b**2 - 3 * a * derphi0))) / (3.0*a)\n",
      "/Users/colinbaker/anaconda3/envs/scootr/lib/python3.9/site-packages/numpy/core/fromnumeric.py:86: RuntimeWarning: invalid value encountered in reduce\n",
      "  return ufunc.reduce(obj, axis, dtype, out, **passkwargs)\n"
     ]
    },
    {
     "ename": "NonConvergenceError",
     "evalue": "Alpha not found",
     "output_type": "error",
     "traceback": [
      "\u001b[0;31m---------------------------------------------------------------------------\u001b[0m",
      "\u001b[0;31mNonConvergenceError\u001b[0m                       Traceback (most recent call last)",
      "Cell \u001b[0;32mIn[6], line 1\u001b[0m\n\u001b[0;32m----> 1\u001b[0m (pi_samp, pi_feat), _, log \u001b[39m=\u001b[39m megawass\u001b[39m.\u001b[39;49magw_scootr(X_full, y_full, Dx_knn, Dy_knn, alpha\u001b[39m=\u001b[39;49m\u001b[39m0.1\u001b[39;49m, sample_eps\u001b[39m=\u001b[39;49m\u001b[39m0.001\u001b[39;49m, feature_eps\u001b[39m=\u001b[39;49m\u001b[39m0.005\u001b[39;49m, verbose\u001b[39m=\u001b[39;49m\u001b[39mTrue\u001b[39;49;00m, log\u001b[39m=\u001b[39;49m\u001b[39mTrue\u001b[39;49;00m)\n\u001b[1;32m      2\u001b[0m log\n",
      "File \u001b[0;32m~/Desktop/SinghLab/SCOOTR/ucoot/src/megawass.py:414\u001b[0m, in \u001b[0;36mMegaWass.agw_scootr\u001b[0;34m(self, X, y, X_d, y_d, px, py, alpha, sample_uot_mode, sample_eps, feature_uot_mode, feature_eps, verbose, log, scaleCost, random_init, C_lin, supervised)\u001b[0m\n\u001b[1;32m    412\u001b[0m         M\u001b[39m=\u001b[39m(M\u001b[39m-\u001b[39mnp\u001b[39m.\u001b[39mamin(M))\u001b[39m/\u001b[39m(np\u001b[39m.\u001b[39mamax(M)\u001b[39m-\u001b[39mnp\u001b[39m.\u001b[39mamin(M))\n\u001b[1;32m    413\u001b[0m     \u001b[39m#note, the interpolation with gw is computed within cg(), and scaling of gw is also handled there beforehand if scaleCost=True.\u001b[39;00m\n\u001b[0;32m--> 414\u001b[0m     Ts\u001b[39m=\u001b[39mcg(px[\u001b[39m0\u001b[39;49m],py[\u001b[39m0\u001b[39;49m],M,alpha,G0\u001b[39m=\u001b[39;49mTs,amijo\u001b[39m=\u001b[39;49m\u001b[39mTrue\u001b[39;49;00m,C1\u001b[39m=\u001b[39;49mX_d,C2\u001b[39m=\u001b[39;49my_d, constC\u001b[39m=\u001b[39;49mconstC_gw, hC1\u001b[39m=\u001b[39;49mhC1_gw, hC2\u001b[39m=\u001b[39;49mhC2_gw, scaleCost\u001b[39m=\u001b[39;49mscaleCost)\n\u001b[1;32m    415\u001b[0m \u001b[39melif\u001b[39;00m sample_uot_mode\u001b[39m==\u001b[39m\u001b[39m\"\u001b[39m\u001b[39msinkhorn\u001b[39m\u001b[39m\"\u001b[39m:\n\u001b[1;32m    416\u001b[0m     gw\u001b[39m=\u001b[39mot\u001b[39m.\u001b[39mgromov\u001b[39m.\u001b[39mgwggrad(constC_gw,hC1_gw,hC2_gw,Ts)\n",
      "File \u001b[0;32m~/Desktop/SinghLab/SCOOTR/ucoot/src/agw_optim.py:256\u001b[0m, in \u001b[0;36mcg\u001b[0;34m(a, b, M, reg, C1, C2, G0, constC, hC1, hC2, scaleCost, numItermax, stopThr, verbose, log, amijo)\u001b[0m\n\u001b[1;32m    253\u001b[0m alpha, fc, f_val \u001b[39m=\u001b[39m do_linesearch(cost\u001b[39m=\u001b[39mcost,G\u001b[39m=\u001b[39mG,deltaG\u001b[39m=\u001b[39mdeltaG,Mi\u001b[39m=\u001b[39mMi,f_val\u001b[39m=\u001b[39mf_val,amijo\u001b[39m=\u001b[39mamijo,constC\u001b[39m=\u001b[39mconstC,C1\u001b[39m=\u001b[39mC1,C2\u001b[39m=\u001b[39mC2,reg\u001b[39m=\u001b[39mreg,Gc\u001b[39m=\u001b[39mGc,M\u001b[39m=\u001b[39mM, scaleCost\u001b[39m=\u001b[39mscaleCost)\n\u001b[1;32m    255\u001b[0m \u001b[39mif\u001b[39;00m alpha \u001b[39mis\u001b[39;00m \u001b[39mNone\u001b[39;00m \u001b[39mor\u001b[39;00m np\u001b[39m.\u001b[39misnan(alpha) :\n\u001b[0;32m--> 256\u001b[0m \t\u001b[39mraise\u001b[39;00m NonConvergenceError(\u001b[39m'\u001b[39m\u001b[39mAlpha not found\u001b[39m\u001b[39m'\u001b[39m)\n\u001b[1;32m    257\u001b[0m \u001b[39melse\u001b[39;00m:\n\u001b[1;32m    258\u001b[0m \tG \u001b[39m=\u001b[39m G \u001b[39m+\u001b[39m alpha \u001b[39m*\u001b[39m deltaG \u001b[39m#xt+1=xt +alpha dt\u001b[39;00m\n",
      "\u001b[0;31mNonConvergenceError\u001b[0m: Alpha not found"
     ]
    }
   ],
   "source": [
    "(pi_samp, pi_feat), _, log = megawass.agw_scootr(X_full, y_full, Dx_knn, Dy_knn, alpha=0.1, sample_eps=0.001, feature_eps=0.005, verbose=True, log=True)\n",
    "log"
   ]
  },
  {
   "cell_type": "code",
   "execution_count": 7,
   "metadata": {},
   "outputs": [
    {
     "ename": "NameError",
     "evalue": "name 'pi_samp' is not defined",
     "output_type": "error",
     "traceback": [
      "\u001b[0;31m---------------------------------------------------------------------------\u001b[0m",
      "\u001b[0;31mNameError\u001b[0m                                 Traceback (most recent call last)",
      "Cell \u001b[0;32mIn[7], line 5\u001b[0m\n\u001b[1;32m      1\u001b[0m \u001b[39mimport\u001b[39;00m \u001b[39mseaborn\u001b[39;00m \u001b[39mas\u001b[39;00m \u001b[39msns\u001b[39;00m\n\u001b[1;32m      3\u001b[0m _, (ax1, ax2) \u001b[39m=\u001b[39m plt\u001b[39m.\u001b[39msubplots(\u001b[39m1\u001b[39m, \u001b[39m2\u001b[39m)\n\u001b[0;32m----> 5\u001b[0m sns\u001b[39m.\u001b[39mheatmap(pi_samp, ax\u001b[39m=\u001b[39max1, cmap\u001b[39m=\u001b[39m\u001b[39m'\u001b[39m\u001b[39mrocket_r\u001b[39m\u001b[39m'\u001b[39m, square\u001b[39m=\u001b[39m\u001b[39mTrue\u001b[39;00m)\n\u001b[1;32m      6\u001b[0m sns\u001b[39m.\u001b[39mheatmap(pi_feat, ax\u001b[39m=\u001b[39max2, cmap\u001b[39m=\u001b[39m\u001b[39m'\u001b[39m\u001b[39mrocket_r\u001b[39m\u001b[39m'\u001b[39m, square\u001b[39m=\u001b[39m\u001b[39mTrue\u001b[39;00m)\n",
      "\u001b[0;31mNameError\u001b[0m: name 'pi_samp' is not defined"
     ]
    },
    {
     "data": {
      "image/png": "[encoded data removed]",
      "text/plain": [
       "<Figure size 640x480 with 2 Axes>"
      ]
     },
     "metadata": {},
     "output_type": "display_data"
    }
   ],
   "source": [
    "import seaborn as sns\n",
    "\n",
    "_, (ax1, ax2) = plt.subplots(1, 2)\n",
    "\n",
    "sns.heatmap(pi_samp, ax=ax1, cmap='rocket_r', square=True)\n",
    "sns.heatmap(pi_feat, ax=ax2, cmap='rocket_r', square=True)"
   ]
  }
 ],
 "metadata": {
  "kernelspec": {
   "display_name": "scootr",
   "language": "python",
   "name": "python3"
  },
  "language_info": {
   "codemirror_mode": {
    "name": "ipython",
    "version": 3
   },
   "file_extension": ".py",
   "mimetype": "text/x-python",
   "name": "python",
   "nbconvert_exporter": "python",
   "pygments_lexer": "ipython3",
   "version": "3.9.16"
  }
 },
 "nbformat": 4,
 "nbformat_minor": 2
}